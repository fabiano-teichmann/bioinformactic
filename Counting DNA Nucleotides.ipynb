{
 "cells": [
  {
   "cell_type": "code",
   "execution_count": 1,
   "metadata": {},
   "outputs": [],
   "source": [
    "file = open('rosalind_dna.txt', 'r')\n",
    "dna = file.read()\n",
    "print(dna.count('A'), dna.count('C'), dna.count('G'), dna.count('T'))"
   ]
  },
  {
   "cell_type": "code",
   "execution_count": 2,
   "metadata": {},
   "outputs": [
    {
     "data": {
      "text/plain": [
       "'GCGTGGATTAATACAACACGTTAGTCACACGAGACACGGATCTAGCGAGACGCGCACGGGATTCCCGGTGGTCATTTAAAACTCAACTGAAGATATAATAAGTGACAACGATGCATGCACATTACGGGTTTACAAGCAACCAGCTCCCCAGGCAAGTGCCCCCCGACATAAGGTTGGATGGACTATACTGCTAATTTCTTTTGATGAGATTAGGGAGCTATACCTATACCAGAAAGCGACTTGATCACGCTTCGCGAGTCATGGGGCATAGTTATTATGCGGACCTCTACGCACGTCGCCACGTAACATGGGCTGGAAGGACAAGTCCATTTTTGGCGAAGATGCAAGGAGATCTGTAAGTATTCTATACCCGGGAGTTGTTCTCATTCGGTAAAAAATAGTATCCATCTAATCGTGGGACAAACGCTACGGATTACGTCAGAAGTCGAAGGAGGGCGCGCCTGGAGCCAGTTACGGACTAAACTGTGCGTTTAGCTTTTGGGCCTGCTTGGTCTGGTGAGTAACCCAGGCTGTATGGTTTTTAATTCGTCGTAACACGTTCATAATATCTTCAAGCATCTCCTGAGGATAACCTTGCAGTCTCCGCACCTGTAGGTTGTGACTCGTAGAGCTTATGCGACCGAAACCCATAATCCCGTACAAAGTACCCACCGATAGGGTTAGTTACCGAATAGCTACGTCTTTGGATCCAGTGGATGAGATAGTGCAACGGGTTCCAGTTCAGTTCTCACCGTGCACATTGTGGCCCGGATCGATCGAGGGTAAAAGGCATTCTCCTAGATATCTCTATATTAATCGGGACGGTACCCAATTTATATAGGATTCAGCTTGC\\n'"
      ]
     },
     "execution_count": 2,
     "metadata": {},
     "output_type": "execute_result"
    }
   ],
   "source": [
    "dna"
   ]
  },
  {
   "cell_type": "code",
   "execution_count": 3,
   "metadata": {},
   "outputs": [
    {
     "name": "stdout",
     "output_type": "stream",
     "text": [
      "228 194 211 220\n"
     ]
    }
   ],
   "source": [
    "print(dna.count('A'), dna.count('C'), dna.count('G'), dna.count('T'))"
   ]
  },
  {
   "cell_type": "code",
   "execution_count": 4,
   "metadata": {},
   "outputs": [],
   "source": [
    "from Bio.Seq import Seq"
   ]
  },
  {
   "cell_type": "code",
   "execution_count": 5,
   "metadata": {},
   "outputs": [],
   "source": [
    "my_seq = Seq(\"AGTACACTGGT\")"
   ]
  },
  {
   "cell_type": "code",
   "execution_count": 6,
   "metadata": {},
   "outputs": [
    {
     "data": {
      "text/plain": [
       "Seq('TCATGTGACCA')"
      ]
     },
     "execution_count": 6,
     "metadata": {},
     "output_type": "execute_result"
    }
   ],
   "source": [
    "my_seq.reverse_complement()"
   ]
  },
  {
   "cell_type": "code",
   "execution_count": 12,
   "metadata": {},
   "outputs": [
    {
     "ename": "TypeError",
     "evalue": "write() argument must be str, not Seq",
     "output_type": "error",
     "traceback": [
      "\u001b[0;31m---------------------------------------------------------------------------\u001b[0m",
      "\u001b[0;31mTypeError\u001b[0m                                 Traceback (most recent call last)",
      "\u001b[0;32m<ipython-input-12-e4ce1703434b>\u001b[0m in \u001b[0;36m<module>\u001b[0;34m\u001b[0m\n\u001b[1;32m      3\u001b[0m \u001b[0mcomplement_dna\u001b[0m \u001b[0;34m=\u001b[0m \u001b[0mdna\u001b[0m\u001b[0;34m.\u001b[0m\u001b[0mreverse_complement\u001b[0m\u001b[0;34m(\u001b[0m\u001b[0;34m)\u001b[0m\u001b[0;34m\u001b[0m\u001b[0;34m\u001b[0m\u001b[0m\n\u001b[1;32m      4\u001b[0m \u001b[0mresp\u001b[0m \u001b[0;34m=\u001b[0m \u001b[0mopen\u001b[0m\u001b[0;34m(\u001b[0m\u001b[0;34m'response_revc.txt'\u001b[0m\u001b[0;34m,\u001b[0m \u001b[0;34m'w'\u001b[0m\u001b[0;34m)\u001b[0m\u001b[0;34m\u001b[0m\u001b[0;34m\u001b[0m\u001b[0m\n\u001b[0;32m----> 5\u001b[0;31m \u001b[0mresp\u001b[0m\u001b[0;34m.\u001b[0m\u001b[0mwrite\u001b[0m\u001b[0;34m(\u001b[0m\u001b[0mcomplement_dna\u001b[0m\u001b[0;34m)\u001b[0m\u001b[0;34m\u001b[0m\u001b[0;34m\u001b[0m\u001b[0m\n\u001b[0m\u001b[1;32m      6\u001b[0m \u001b[0mresp\u001b[0m\u001b[0;34m.\u001b[0m\u001b[0mclose\u001b[0m\u001b[0;34m(\u001b[0m\u001b[0;34m)\u001b[0m\u001b[0;34m\u001b[0m\u001b[0;34m\u001b[0m\u001b[0m\n",
      "\u001b[0;31mTypeError\u001b[0m: write() argument must be str, not Seq"
     ]
    }
   ],
   "source": [
    "file = open('rosalind_revc.txt', 'r')\n",
    "dna = Seq(file.read())\n",
    "complement_dna = dna.reverse_complement()\n",
    "resp = open('response_revc.txt', 'w')\n",
    "resp.write(complement_dna)\n",
    "resp.close()\n"
   ]
  },
  {
   "cell_type": "code",
   "execution_count": 16,
   "metadata": {},
   "outputs": [],
   "source": [
    "file.close()"
   ]
  },
  {
   "cell_type": "code",
   "execution_count": 22,
   "metadata": {},
   "outputs": [
    {
     "name": "stdout",
     "output_type": "stream",
     "text": [
      "TCCCGGCAAGGGCGGCATATGCCACGCACGGAGTGGCGGCAGATAGCTTGGGTTGTACACTAGCAGAACATATGAGGTCTTCTGGAAGTACCCAGAAGTTAGGCAACAACGTCAAGAACTGTTCACCTTCGAGAGCAGTGGATCTGGGAACCTCCCCACAACTACCGGGGTGGTAAATTGTTGTCCCAACGTAGCTTCATGTGCGCCCGCCCGCCGGTAGACACGCAGCTTTGCACCTTGTACGGGTGACGCTTATCCGCAATTTCAGCGTGAAGCACATCCAAGACTGCGAAGTAATCGTCGAGTGATGTACATACCTTACCGTGAGGGTGTCGAACCTCGGCGCGGACTAACATCGAAAAGTCTTACCATTGTCTGCGCTGTCATCTTCCCCGACGTGCCCCGGCTCATGCGGTCTTTTCTAAGTTTTCTCTCCCAATCTAAGGCAAACGGTGCAAAGTTTTTCAAGTGGCTGAATTCGTTATACTGCGCGTTTCGCTAAGCGATAGCCTGTACGGCCTAGAGTCGCATTCAAGAGAGGACGATAGCAGCACCCGATAGATGTGTTACTGATAAGTCGGACGACGCTCAGCGAGAAGCGTCAGGACTGCACAACCAATATAAACACGGATGAGACACTCGTTGTTACAACGCTTACACGGTGACCCCTGGGGGGGCAGCCGATGAGTTCTGTATGGGAACGGGGGAACCAAGAGTGCGTGGTAACGGCGGTCCCGTCTCGGCTATTAAAGTTTCAATCGCCTATCTTATCGTCCATGGCGTAAATCGACACCGCTACCGCGGGCCTAGATAGCGGTCTGGCCGTCCCGGCATCTTGGCCTTACAGCGTGACAAAACGACCCATTTCTAGATTTGACGATTT\n",
      "\n"
     ]
    }
   ],
   "source": [
    "file = open('rosalind_revc.txt', 'r')\n",
    "dna = file.read()\n",
    "print(dna)"
   ]
  },
  {
   "cell_type": "code",
   "execution_count": 23,
   "metadata": {},
   "outputs": [],
   "source": [
    "seq_dna = Seq(dna)"
   ]
  },
  {
   "cell_type": "code",
   "execution_count": 24,
   "metadata": {},
   "outputs": [],
   "source": [
    "completing = seq_dna.reverse_complement()"
   ]
  },
  {
   "cell_type": "code",
   "execution_count": 25,
   "metadata": {},
   "outputs": [
    {
     "name": "stdout",
     "output_type": "stream",
     "text": [
      "\n",
      "AAATCGTCAAATCTAGAAATGGGTCGTTTTGTCACGCTGTAAGGCCAAGATGCCGGGACGGCCAGACCGCTATCTAGGCCCGCGGTAGCGGTGTCGATTTACGCCATGGACGATAAGATAGGCGATTGAAACTTTAATAGCCGAGACGGGACCGCCGTTACCACGCACTCTTGGTTCCCCCGTTCCCATACAGAACTCATCGGCTGCCCCCCCAGGGGTCACCGTGTAAGCGTTGTAACAACGAGTGTCTCATCCGTGTTTATATTGGTTGTGCAGTCCTGACGCTTCTCGCTGAGCGTCGTCCGACTTATCAGTAACACATCTATCGGGTGCTGCTATCGTCCTCTCTTGAATGCGACTCTAGGCCGTACAGGCTATCGCTTAGCGAAACGCGCAGTATAACGAATTCAGCCACTTGAAAAACTTTGCACCGTTTGCCTTAGATTGGGAGAGAAAACTTAGAAAAGACCGCATGAGCCGGGGCACGTCGGGGAAGATGACAGCGCAGACAATGGTAAGACTTTTCGATGTTAGTCCGCGCCGAGGTTCGACACCCTCACGGTAAGGTATGTACATCACTCGACGATTACTTCGCAGTCTTGGATGTGCTTCACGCTGAAATTGCGGATAAGCGTCACCCGTACAAGGTGCAAAGCTGCGTGTCTACCGGCGGGCGGGCGCACATGAAGCTACGTTGGGACAACAATTTACCACCCCGGTAGTTGTGGGGAGGTTCCCAGATCCACTGCTCTCGAAGGTGAACAGTTCTTGACGTTGTTGCCTAACTTCTGGGTACTTCCAGAAGACCTCATATGTTCTGCTAGTGTACAACCCAAGCTATCTGCCGCCACTCCGTGCGTGGCATATGCCGCCCTTGCCGGGA\n"
     ]
    }
   ],
   "source": [
    "print(completing)"
   ]
  },
  {
   "cell_type": "code",
   "execution_count": 21,
   "metadata": {},
   "outputs": [],
   "source": [
    "file.close()"
   ]
  },
  {
   "cell_type": "code",
   "execution_count": 30,
   "metadata": {},
   "outputs": [
    {
     "name": "stdout",
     "output_type": "stream",
     "text": [
      "3.8\n"
     ]
    }
   ],
   "source": [
    "iprb = [20, 18, 25]\n",
    "k = 20 # homozigoto\n",
    "m = 18 # hetoozigoto\n",
    "n = 25 # homozigoto recessivo\n",
    "\n",
    "\n",
    "print((20 / 10) + (18 /10))"
   ]
  },
  {
   "cell_type": "code",
   "execution_count": 28,
   "metadata": {},
   "outputs": [
    {
     "data": {
      "text/plain": [
       "2.0"
      ]
     },
     "execution_count": 28,
     "metadata": {},
     "output_type": "execute_result"
    }
   ],
   "source": [
    "(20 / 10)"
   ]
  },
  {
   "cell_type": "code",
   "execution_count": 31,
   "metadata": {},
   "outputs": [],
   "source": [
    "t = k + m + n"
   ]
  },
  {
   "cell_type": "code",
   "execution_count": 33,
   "metadata": {},
   "outputs": [
    {
     "data": {
      "text/plain": [
       "3.15"
      ]
     },
     "execution_count": 33,
     "metadata": {},
     "output_type": "execute_result"
    }
   ],
   "source": [
    "t / k\n"
   ]
  },
  {
   "cell_type": "code",
   "execution_count": 34,
   "metadata": {},
   "outputs": [
    {
     "data": {
      "text/plain": [
       "2.7333333333333334"
      ]
     },
     "execution_count": 34,
     "metadata": {},
     "output_type": "execute_result"
    }
   ],
   "source": [
    "k = 30\n",
    "t = k + 30 + 22\n",
    "t/k"
   ]
  },
  {
   "cell_type": "code",
   "execution_count": null,
   "metadata": {},
   "outputs": [],
   "source": []
  }
 ],
 "metadata": {
  "kernelspec": {
   "display_name": "Python 3",
   "language": "python",
   "name": "python3"
  },
  "language_info": {
   "codemirror_mode": {
    "name": "ipython",
    "version": 3
   },
   "file_extension": ".py",
   "mimetype": "text/x-python",
   "name": "python",
   "nbconvert_exporter": "python",
   "pygments_lexer": "ipython3",
   "version": "3.7.3"
  }
 },
 "nbformat": 4,
 "nbformat_minor": 2
}
